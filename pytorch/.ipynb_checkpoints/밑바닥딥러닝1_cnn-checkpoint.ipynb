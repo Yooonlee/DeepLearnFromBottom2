{
 "cells": [
  {
   "cell_type": "code",
   "execution_count": 29,
   "id": "fbe8624d",
   "metadata": {},
   "outputs": [],
   "source": [
    "import tensorflow as tf\n",
    "import numpy as np\n",
    "import matplotlib.pyplot as plt"
   ]
  },
  {
   "cell_type": "code",
   "execution_count": 3,
   "id": "0805a816",
   "metadata": {},
   "outputs": [
    {
     "name": "stdout",
     "output_type": "stream",
     "text": [
      "2.9.1\n"
     ]
    }
   ],
   "source": [
    "print(tf.__version__)"
   ]
  },
  {
   "cell_type": "code",
   "execution_count": 5,
   "id": "ee67daf8",
   "metadata": {},
   "outputs": [
    {
     "name": "stdout",
     "output_type": "stream",
     "text": [
      "x= 1.0 --> z= 2.7\n",
      "x= 0.6 --> z= 1.9\n",
      "x=-1.8 --> z=-2.9\n"
     ]
    }
   ],
   "source": [
    "#텐서플로 1.x 방식의 저수준 api이용해   \n",
    "#z = w x x + b 구하기\n",
    "##그래프를 생성합니다\n",
    "g = tf.Graph()\n",
    "with g.as_default():\n",
    "    x = tf.compat.v1.placeholder(dtype = tf.float32, shape = (None), name= 'x')\n",
    "    w = tf.Variable(2.0, name = 'weight')\n",
    "    b = tf.Variable(0.7, name = 'bias')\n",
    "\n",
    "    z = w * x + b\n",
    "    init = tf.compat.v1.global_variables_initializer()\n",
    "    \n",
    "##세션을 만들고 그래프 g를 전달합니다.\n",
    "with tf.compat.v1.Session(graph = g) as sess:\n",
    "    ##w와 b를 초기화합니다.\n",
    "    sess.run(init)\n",
    "    ##z를 평가합니다\n",
    "    for t in [1.0, 0.6, -1.8]:\n",
    "        print('x=%4.1f --> z=%4.1f'%(t, sess.run(z, feed_dict = {x:t})))\n",
    "        \n",
    "#session 객체를 만들어  feed_dict를 이용해 플레이스 홀더에 데이터를 주입해야 결과가 출력된다!!"
   ]
  },
  {
   "cell_type": "code",
   "execution_count": 8,
   "id": "e4311172",
   "metadata": {},
   "outputs": [
    {
     "name": "stdout",
     "output_type": "stream",
     "text": [
      "x= 1.0 --> z= 2.7\n",
      "x= 0.6 --> z= 1.9\n",
      "x=-1.8 --> z=-2.9\n"
     ]
    }
   ],
   "source": [
    "#텐서플로 2.x 방식\n",
    "w = tf.Variable(2.0, name = 'weight')\n",
    "b = tf.Variable(0.7, name= 'bias')\n",
    "#z를 평가합니다\n",
    "for x in [1.0, 0.6, -1.8]:\n",
    "    z = w * x + b\n",
    "    print('x=%4.1f --> z=%4.1f'%(x,z))\n",
    "    \n",
    "#변수 초기화, session객체 불필요하다! \n"
   ]
  },
  {
   "cell_type": "code",
   "execution_count": 9,
   "id": "0e4bc885",
   "metadata": {},
   "outputs": [
    {
     "name": "stdout",
     "output_type": "stream",
     "text": [
      "[2.7 4.7 6.7]\n"
     ]
    }
   ],
   "source": [
    "z = w * [1., 2., 3.] + b\n",
    "print(z.numpy()) #텐서값을 넘파이로 출력하려면 numpy() 매서드를 사용해야함.\n",
    "print(z)"
   ]
  },
  {
   "cell_type": "code",
   "execution_count": 12,
   "id": "c056f05f",
   "metadata": {},
   "outputs": [
    {
     "name": "stdout",
     "output_type": "stream",
     "text": [
      "입력 크기: (3, 2, 3)\n",
      "크기가 변경된 입력:\n",
      ": [[ 0  1  2  3  4  5]\n",
      " [ 6  7  8  9 10 11]\n",
      " [12 13 14 15 16 17]]\n",
      "입력 크기: [18 21 24 27 30 33]\n",
      "입력 크기: [ 6  7  8  9 10 11]\n"
     ]
    }
   ],
   "source": [
    "x_array = np.arange(18).reshape(3,2,3)\n",
    "\n",
    "x2 = tf.reshape(x_array, shape = (-1, 6))\n",
    "\n",
    "#각 열의 합을 꼐산\n",
    "xsum = tf.reduce_sum(x2, axis = 0)#\n",
    "\n",
    "#각 열의 평균을 계산\n",
    "xmean = tf.reduce_mean(x2, axis = 0)\n",
    "\n",
    "print('입력 크기:', x_array.shape)\n",
    "print('크기가 변경된 입력:\\n:', x2.numpy())\n",
    "print('입력 크기:', xsum.numpy())\n",
    "print('입력 크기:', xmean.numpy())\n",
    "\n"
   ]
  },
  {
   "cell_type": "code",
   "execution_count": 38,
   "id": "2e20f4c8",
   "metadata": {},
   "outputs": [],
   "source": [
    "#최소 제곱법 회귀 구현\n",
    "x_train = np.arange(10).reshape((10,1))\n",
    "y_train = np.array([1.0, 1.3, 3.1,\n",
    "                   2.0, 5.0, 6.3,\n",
    "                   6.6, 7.4, 8.0,\n",
    "                   9.0])\n",
    "##입력 x에서 출력 y를 예측하는 선형 회귀모델을 훈련시키자\n",
    "##TfLinreg라는 이름의 클래스로 구현해보자\n",
    "#선형 회귀 모델을 정의(z = w * x + b) + 평균제곱오차를 비용함수로 정의 + 경사 하강법 옵티마이저를 사용\n",
    "\n",
    "class TfLinreg(object):\n",
    "    \n",
    "    def __init__(self, learning_rate = 0.01):\n",
    "        ##가중치와 절편을 정의한다.\n",
    "        self.w = tf.Variable(tf.zeros(shape = (1)))\n",
    "        self.b = tf.Variable(tf.zeros(shape = (1)))\n",
    "        ##경사 하강법 옵티마이저를 설정합니다.\n",
    "        self.optimizer = tf.keras.optimizers.SGD(lr = learning_rate)\n",
    "    \n",
    "    def fit(self, X, y, num_epochs = 10):\n",
    "        ##비용 함수의 값을 저장하기 위한 리스트를 정의합니다\n",
    "        training_costs = []\n",
    "        for step in range(num_epochs):\n",
    "        ##자동 미분을 위해 연산 과정을 기록합니다\n",
    "            with tf.GradientTape() as tape:\n",
    "                z_net = self.w * X + self.b #행렬 곱 , 합 \n",
    "                z_net = tf.reshape(z_net, [-1]) # 일렬로 배열\n",
    "                sqr_errors = tf.square(y - z_net)\n",
    "                mean_cost = tf.reduce_mean(sqr_errors)\n",
    "            ##비용 함수에 대한 가중치의 그래디언트를 계산합니다.\n",
    "            grads = tape.gradient(mean_cost, [self.w, self.b])\n",
    "            \n",
    "            ##옵티마이저에 그래디언트를 반영합니다\n",
    "            self.optimizer.apply_gradients(zip(grads, [self.w, self.b]))\n",
    "            ##비용 함수의 값을 저장합니다\n",
    "            training_costs.append(mean_cost.numpy())\n",
    "        return training_costs\n",
    "    \n",
    "    def predict(self, X):\n",
    "        return self.w * X + self.b\n",
    "    \n",
    "                                  \n",
    "    \n",
    "    \n",
    "    "
   ]
  },
  {
   "cell_type": "code",
   "execution_count": 39,
   "id": "5b288b67",
   "metadata": {},
   "outputs": [
    {
     "data": {
      "image/png": "[encoded data removed]",
      "text/plain": [
       "<Figure size 432x288 with 1 Axes>"
      ]
     },
     "metadata": {
      "needs_background": "light"
     },
     "output_type": "display_data"
    }
   ],
   "source": [
    "lrmodel = TfLinreg()\n",
    "#fit 메서드는 에포크마다 계산된 비용 함수 값을 반환한다.\n",
    "training_costs = lrmodel.fit(x_train, y_train)\n",
    "plt.plot(range(1, len(training_costs) + 1), training_costs)\n",
    "plt.tight_layout()\n",
    "plt.xlabel('Epoch')\n",
    "plt.ylabel('Training Cost')\n",
    "plt.show()\n"
   ]
  },
  {
   "cell_type": "code",
   "execution_count": 40,
   "id": "f3c76421",
   "metadata": {},
   "outputs": [
    {
     "data": {
      "image/png": "[encoded data removed]",
      "text/plain": [
       "<Figure size 432x288 with 1 Axes>"
      ]
     },
     "metadata": {
      "needs_background": "light"
     },
     "output_type": "display_data"
    }
   ],
   "source": [
    "\n",
    "\n",
    "plt.scatter(x_train, y_train, \n",
    "           marker = 's', s=50,\n",
    "           label = 'Training Data')\n",
    "plt.plot(range(x_train.shape[0]),\n",
    "        lrmodel.predict(x_train),\n",
    "        color = 'gray', marker = 'o',\n",
    "        markersize = 6, linewidth = 3,\n",
    "        label = 'LinReg Model')\n",
    "plt.xlabel('x')\n",
    "plt.ylabel('y')\n",
    "plt.legend()\n",
    "plt.tight_layout()\n",
    "plt.show()\n",
    "    "
   ]
  },
  {
   "cell_type": "code",
   "execution_count": null,
   "id": "d59da875",
   "metadata": {},
   "outputs": [],
   "source": []
  }
 ],
 "metadata": {
  "kernelspec": {
   "display_name": "Python 3 (ipykernel)",
   "language": "python",
   "name": "python3"
  },
  "language_info": {
   "codemirror_mode": {
    "name": "ipython",
    "version": 3
   },
   "file_extension": ".py",
   "mimetype": "text/x-python",
   "name": "python",
   "nbconvert_exporter": "python",
   "pygments_lexer": "ipython3",
   "version": "3.9.12"
  }
 },
 "nbformat": 4,
 "nbformat_minor": 5
}
