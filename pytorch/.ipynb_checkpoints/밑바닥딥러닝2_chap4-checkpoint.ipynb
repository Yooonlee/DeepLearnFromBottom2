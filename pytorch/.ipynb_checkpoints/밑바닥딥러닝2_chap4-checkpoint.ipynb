{
 "cells": [
  {
   "cell_type": "code",
   "execution_count": 6,
   "id": "cf3e721f",
   "metadata": {},
   "outputs": [],
   "source": [
    "#word_vec의 단점 보완\n",
    "\n",
    "#1.임베딩 계층 구현\n",
    "#Win 배열의 크기가 너무 커질 수 있기 때문에 MatMul의 기능, 즉, 행렬의 특정 행을 뽑아내는 것만 작동하게 함.\n",
    "#즉, 단어 ID에 해당하는 행(벡터)를 추출하는 계층을 만든다.\n",
    "\n",
    "#2.네거티브 샘플링 기법\n",
    "#은닉층 뉴런과 가중치 행렬(Wout)의 곱 \n",
    "#softmax 계층의 계산 \n",
    "\n"
   ]
  },
  {
   "cell_type": "code",
   "execution_count": 2,
   "id": "11d9b336",
   "metadata": {},
   "outputs": [],
   "source": [
    "import numpy as np\n"
   ]
  },
  {
   "cell_type": "code",
   "execution_count": 3,
   "id": "15efff8e",
   "metadata": {},
   "outputs": [
    {
     "data": {
      "text/plain": [
       "array([[ 3,  4,  5],\n",
       "       [ 0,  1,  2],\n",
       "       [ 9, 10, 11],\n",
       "       [ 0,  1,  2]])"
      ]
     },
     "execution_count": 3,
     "metadata": {},
     "output_type": "execute_result"
    }
   ],
   "source": [
    "W = np.arange(21).reshape(7, 3) #가중치 행렬 \n",
    "W\n",
    "#하나의 행을 추출\n",
    "W[2]\n",
    "W[5]\n",
    "#여러 행을 추출\n",
    "idx = np.array([1, 0, 3, 0]) #1, 0, 3, 0 번째를 한꺼번에 추출\n",
    "W[idx]\n",
    "\n",
    "\n",
    "\n",
    "\n"
   ]
  },
  {
   "cell_type": "code",
   "execution_count": 5,
   "id": "d853ca2e",
   "metadata": {},
   "outputs": [],
   "source": [
    "class Embedding:\n",
    "    def __init__(self, W):\n",
    "        self.params = [W]\n",
    "        self.grads = [np.zeros_like(W)]\n",
    "        self.idx = None\n",
    "        \n",
    "    def forward(self, idx):\n",
    "        W, = self.params\n",
    "        self.idx = idx # idx에는 추출하는 행의 인덱스 (단어 ID)를 배열로 저장\n",
    "        out = W[idx]\n",
    "        return out\n",
    "    \n",
    "    def backward(self, dout):\n",
    "        dW, = self.grads\n",
    "        dW[...] = 0\n",
    "        \n",
    "        for i, word_id in enumerate(self.idx): # 같은 가중치가 여러번 추출되었을 경우 dW행렬에 더해서 더 강하게 학습시킴. \n",
    "            dW[word_id] += dout[i]\n",
    "            \n",
    "        return None\n",
    "#역전파의 경우 Embedding 계층의 순전파는 가중치 W의 특정 행을 추출할 뿐이었음\n",
    "#따라서 역전파에서는 앞 층으로부터 전해진 기울기를 가중치 기울기 dW의 특정행(idx 번째 행)에 설정한다. "
   ]
  },
  {
   "cell_type": "code",
   "execution_count": 1,
   "id": "e669f1c5",
   "metadata": {},
   "outputs": [],
   "source": [
    "class EmbeddingDot:\n",
    "    def __init__(self, W):\n",
    "        self.embed = Embedding(W)\n",
    "        self.params = self.embed.params\n",
    "        self.grads = self.embed.grads\n",
    "        self.cache = None\n",
    "    \n",
    "    def forward(self, h, idx):\n",
    "        target_W = self.embed.forward(idx) # 각각의 행을 추출한 결과\n",
    "        out = np.sum(target_W * h, axis = 1) # *는 행렬의 원소 곱이다. h는 Wout의 원하는 값의 열(1개의 열)을  \n",
    "        #특정 단어별로 쪼개서 각각 행으로 쌓아 만든 은닉층 뉴런 행렬이다.   \n",
    "        \n",
    "        self.cache = (h, target_W)\n",
    "        return out\n",
    "    def backward(self, dout):\n",
    "        h, target_W = self.cache\n",
    "        dout = dout.reshape(dout.shape[0], 1)\n",
    "        \n",
    "        dtarget_W = dout * h\n",
    "        self.embed.backward(dtarget_W)\n",
    "        dh = dout * target_W\n",
    "        return dh\n",
    "    \n",
    "        "
   ]
  },
  {
   "cell_type": "code",
   "execution_count": null,
   "id": "0314b0b3",
   "metadata": {},
   "outputs": [],
   "source": [
    "\n",
    "\n",
    "\n",
    "\n"
   ]
  }
 ],
 "metadata": {
  "kernelspec": {
   "display_name": "Python 3 (ipykernel)",
   "language": "python",
   "name": "python3"
  },
  "language_info": {
   "codemirror_mode": {
    "name": "ipython",
    "version": 3
   },
   "file_extension": ".py",
   "mimetype": "text/x-python",
   "name": "python",
   "nbconvert_exporter": "python",
   "pygments_lexer": "ipython3",
   "version": "3.9.12"
  }
 },
 "nbformat": 4,
 "nbformat_minor": 5
}
